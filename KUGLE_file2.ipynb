{
 "cells": [
  {
   "cell_type": "code",
   "execution_count": 1,
   "id": "077c19a3",
   "metadata": {},
   "outputs": [],
   "source": [
    "import pandas as pd"
   ]
  },
  {
   "cell_type": "code",
   "execution_count": 2,
   "id": "94a42fce",
   "metadata": {},
   "outputs": [],
   "source": [
    "data=pd.read_csv('C:\\\\Users\\\\User\\\\KUGLE\\\\googleplaystore.csv')"
   ]
  },
  {
   "cell_type": "code",
   "execution_count": 3,
   "id": "4cd6268d",
   "metadata": {},
   "outputs": [
    {
     "name": "stdout",
     "output_type": "stream",
     "text": [
      "                                                     App             Category  \\\n",
      "0         Photo Editor & Candy Camera & Grid & ScrapBook       ART_AND_DESIGN   \n",
      "1                                    Coloring book moana       ART_AND_DESIGN   \n",
      "2      U Launcher Lite – FREE Live Cool Themes, Hide ...       ART_AND_DESIGN   \n",
      "3                                  Sketch - Draw & Paint       ART_AND_DESIGN   \n",
      "4                  Pixel Draw - Number Art Coloring Book       ART_AND_DESIGN   \n",
      "...                                                  ...                  ...   \n",
      "10836                                   Sya9a Maroc - FR               FAMILY   \n",
      "10837                   Fr. Mike Schmitz Audio Teachings               FAMILY   \n",
      "10838                             Parkinson Exercices FR              MEDICAL   \n",
      "10839                      The SCP Foundation DB fr nn5n  BOOKS_AND_REFERENCE   \n",
      "10840      iHoroscope - 2018 Daily Horoscope & Astrology            LIFESTYLE   \n",
      "\n",
      "       Rating Reviews                Size     Installs  Type Price  \\\n",
      "0         4.1     159                 19M      10,000+  Free     0   \n",
      "1         3.9     967                 14M     500,000+  Free     0   \n",
      "2         4.7   87510                8.7M   5,000,000+  Free     0   \n",
      "3         4.5  215644                 25M  50,000,000+  Free     0   \n",
      "4         4.3     967                2.8M     100,000+  Free     0   \n",
      "...       ...     ...                 ...          ...   ...   ...   \n",
      "10836     4.5      38                 53M       5,000+  Free     0   \n",
      "10837     5.0       4                3.6M         100+  Free     0   \n",
      "10838     NaN       3                9.5M       1,000+  Free     0   \n",
      "10839     4.5     114  Varies with device       1,000+  Free     0   \n",
      "10840     4.5  398307                 19M  10,000,000+  Free     0   \n",
      "\n",
      "      Content Rating                     Genres      Last Updated  \\\n",
      "0           Everyone               Art & Design   January 7, 2018   \n",
      "1           Everyone  Art & Design;Pretend Play  January 15, 2018   \n",
      "2           Everyone               Art & Design    August 1, 2018   \n",
      "3               Teen               Art & Design      June 8, 2018   \n",
      "4           Everyone    Art & Design;Creativity     June 20, 2018   \n",
      "...              ...                        ...               ...   \n",
      "10836       Everyone                  Education     July 25, 2017   \n",
      "10837       Everyone                  Education      July 6, 2018   \n",
      "10838       Everyone                    Medical  January 20, 2017   \n",
      "10839     Mature 17+          Books & Reference  January 19, 2015   \n",
      "10840       Everyone                  Lifestyle     July 25, 2018   \n",
      "\n",
      "              Current Ver         Android Ver  \n",
      "0                   1.0.0        4.0.3 and up  \n",
      "1                   2.0.0        4.0.3 and up  \n",
      "2                   1.2.4        4.0.3 and up  \n",
      "3      Varies with device          4.2 and up  \n",
      "4                     1.1          4.4 and up  \n",
      "...                   ...                 ...  \n",
      "10836                1.48          4.1 and up  \n",
      "10837                 1.0          4.1 and up  \n",
      "10838                 1.0          2.2 and up  \n",
      "10839  Varies with device  Varies with device  \n",
      "10840  Varies with device  Varies with device  \n",
      "\n",
      "[10841 rows x 13 columns]\n"
     ]
    }
   ],
   "source": [
    "print(data)"
   ]
  },
  {
   "cell_type": "code",
   "execution_count": 4,
   "id": "5f3db00e",
   "metadata": {},
   "outputs": [],
   "source": [
    "google=('googleplaystore.csv')"
   ]
  },
  {
   "cell_type": "code",
   "execution_count": 5,
   "id": "97c63a5c",
   "metadata": {},
   "outputs": [],
   "source": [
    "Google=pd.read_csv('C:\\\\Users\\\\User\\\\KUGLE\\\\googleplaystore.csv')"
   ]
  },
  {
   "cell_type": "code",
   "execution_count": 6,
   "id": "9aa78519",
   "metadata": {},
   "outputs": [
    {
     "data": {
      "text/html": [
       "<div>\n",
       "<style scoped>\n",
       "    .dataframe tbody tr th:only-of-type {\n",
       "        vertical-align: middle;\n",
       "    }\n",
       "\n",
       "    .dataframe tbody tr th {\n",
       "        vertical-align: top;\n",
       "    }\n",
       "\n",
       "    .dataframe thead th {\n",
       "        text-align: right;\n",
       "    }\n",
       "</style>\n",
       "<table border=\"1\" class=\"dataframe\">\n",
       "  <thead>\n",
       "    <tr style=\"text-align: right;\">\n",
       "      <th></th>\n",
       "      <th>App</th>\n",
       "      <th>Category</th>\n",
       "      <th>Rating</th>\n",
       "      <th>Reviews</th>\n",
       "      <th>Size</th>\n",
       "      <th>Installs</th>\n",
       "      <th>Type</th>\n",
       "      <th>Price</th>\n",
       "      <th>Content Rating</th>\n",
       "      <th>Genres</th>\n",
       "      <th>Last Updated</th>\n",
       "      <th>Current Ver</th>\n",
       "      <th>Android Ver</th>\n",
       "    </tr>\n",
       "  </thead>\n",
       "  <tbody>\n",
       "    <tr>\n",
       "      <th>0</th>\n",
       "      <td>Photo Editor &amp; Candy Camera &amp; Grid &amp; ScrapBook</td>\n",
       "      <td>ART_AND_DESIGN</td>\n",
       "      <td>4.1</td>\n",
       "      <td>159</td>\n",
       "      <td>19M</td>\n",
       "      <td>10,000+</td>\n",
       "      <td>Free</td>\n",
       "      <td>0</td>\n",
       "      <td>Everyone</td>\n",
       "      <td>Art &amp; Design</td>\n",
       "      <td>January 7, 2018</td>\n",
       "      <td>1.0.0</td>\n",
       "      <td>4.0.3 and up</td>\n",
       "    </tr>\n",
       "    <tr>\n",
       "      <th>1</th>\n",
       "      <td>Coloring book moana</td>\n",
       "      <td>ART_AND_DESIGN</td>\n",
       "      <td>3.9</td>\n",
       "      <td>967</td>\n",
       "      <td>14M</td>\n",
       "      <td>500,000+</td>\n",
       "      <td>Free</td>\n",
       "      <td>0</td>\n",
       "      <td>Everyone</td>\n",
       "      <td>Art &amp; Design;Pretend Play</td>\n",
       "      <td>January 15, 2018</td>\n",
       "      <td>2.0.0</td>\n",
       "      <td>4.0.3 and up</td>\n",
       "    </tr>\n",
       "    <tr>\n",
       "      <th>2</th>\n",
       "      <td>U Launcher Lite – FREE Live Cool Themes, Hide ...</td>\n",
       "      <td>ART_AND_DESIGN</td>\n",
       "      <td>4.7</td>\n",
       "      <td>87510</td>\n",
       "      <td>8.7M</td>\n",
       "      <td>5,000,000+</td>\n",
       "      <td>Free</td>\n",
       "      <td>0</td>\n",
       "      <td>Everyone</td>\n",
       "      <td>Art &amp; Design</td>\n",
       "      <td>August 1, 2018</td>\n",
       "      <td>1.2.4</td>\n",
       "      <td>4.0.3 and up</td>\n",
       "    </tr>\n",
       "    <tr>\n",
       "      <th>3</th>\n",
       "      <td>Sketch - Draw &amp; Paint</td>\n",
       "      <td>ART_AND_DESIGN</td>\n",
       "      <td>4.5</td>\n",
       "      <td>215644</td>\n",
       "      <td>25M</td>\n",
       "      <td>50,000,000+</td>\n",
       "      <td>Free</td>\n",
       "      <td>0</td>\n",
       "      <td>Teen</td>\n",
       "      <td>Art &amp; Design</td>\n",
       "      <td>June 8, 2018</td>\n",
       "      <td>Varies with device</td>\n",
       "      <td>4.2 and up</td>\n",
       "    </tr>\n",
       "    <tr>\n",
       "      <th>4</th>\n",
       "      <td>Pixel Draw - Number Art Coloring Book</td>\n",
       "      <td>ART_AND_DESIGN</td>\n",
       "      <td>4.3</td>\n",
       "      <td>967</td>\n",
       "      <td>2.8M</td>\n",
       "      <td>100,000+</td>\n",
       "      <td>Free</td>\n",
       "      <td>0</td>\n",
       "      <td>Everyone</td>\n",
       "      <td>Art &amp; Design;Creativity</td>\n",
       "      <td>June 20, 2018</td>\n",
       "      <td>1.1</td>\n",
       "      <td>4.4 and up</td>\n",
       "    </tr>\n",
       "  </tbody>\n",
       "</table>\n",
       "</div>"
      ],
      "text/plain": [
       "                                                 App        Category  Rating  \\\n",
       "0     Photo Editor & Candy Camera & Grid & ScrapBook  ART_AND_DESIGN     4.1   \n",
       "1                                Coloring book moana  ART_AND_DESIGN     3.9   \n",
       "2  U Launcher Lite – FREE Live Cool Themes, Hide ...  ART_AND_DESIGN     4.7   \n",
       "3                              Sketch - Draw & Paint  ART_AND_DESIGN     4.5   \n",
       "4              Pixel Draw - Number Art Coloring Book  ART_AND_DESIGN     4.3   \n",
       "\n",
       "  Reviews  Size     Installs  Type Price Content Rating  \\\n",
       "0     159   19M      10,000+  Free     0       Everyone   \n",
       "1     967   14M     500,000+  Free     0       Everyone   \n",
       "2   87510  8.7M   5,000,000+  Free     0       Everyone   \n",
       "3  215644   25M  50,000,000+  Free     0           Teen   \n",
       "4     967  2.8M     100,000+  Free     0       Everyone   \n",
       "\n",
       "                      Genres      Last Updated         Current Ver  \\\n",
       "0               Art & Design   January 7, 2018               1.0.0   \n",
       "1  Art & Design;Pretend Play  January 15, 2018               2.0.0   \n",
       "2               Art & Design    August 1, 2018               1.2.4   \n",
       "3               Art & Design      June 8, 2018  Varies with device   \n",
       "4    Art & Design;Creativity     June 20, 2018                 1.1   \n",
       "\n",
       "    Android Ver  \n",
       "0  4.0.3 and up  \n",
       "1  4.0.3 and up  \n",
       "2  4.0.3 and up  \n",
       "3    4.2 and up  \n",
       "4    4.4 and up  "
      ]
     },
     "execution_count": 6,
     "metadata": {},
     "output_type": "execute_result"
    }
   ],
   "source": [
    "data.head()"
   ]
  },
  {
   "cell_type": "code",
   "execution_count": 7,
   "id": "ed5d2af6",
   "metadata": {},
   "outputs": [],
   "source": [
    "apple=('AppleStore.csv')"
   ]
  },
  {
   "cell_type": "code",
   "execution_count": 8,
   "id": "4ab831e4",
   "metadata": {},
   "outputs": [],
   "source": [
    "Apple=pd.read_csv('C:\\\\Users\\\\User\\\\KUGLE\\\\AppleStore.csv')"
   ]
  },
  {
   "cell_type": "code",
   "execution_count": 9,
   "id": "ddd7e86d",
   "metadata": {},
   "outputs": [
    {
     "data": {
      "text/html": [
       "<div>\n",
       "<style scoped>\n",
       "    .dataframe tbody tr th:only-of-type {\n",
       "        vertical-align: middle;\n",
       "    }\n",
       "\n",
       "    .dataframe tbody tr th {\n",
       "        vertical-align: top;\n",
       "    }\n",
       "\n",
       "    .dataframe thead th {\n",
       "        text-align: right;\n",
       "    }\n",
       "</style>\n",
       "<table border=\"1\" class=\"dataframe\">\n",
       "  <thead>\n",
       "    <tr style=\"text-align: right;\">\n",
       "      <th></th>\n",
       "      <th>App</th>\n",
       "      <th>Category</th>\n",
       "      <th>Rating</th>\n",
       "      <th>Reviews</th>\n",
       "      <th>Size</th>\n",
       "      <th>Installs</th>\n",
       "      <th>Type</th>\n",
       "      <th>Price</th>\n",
       "      <th>Content Rating</th>\n",
       "      <th>Genres</th>\n",
       "      <th>Last Updated</th>\n",
       "      <th>Current Ver</th>\n",
       "      <th>Android Ver</th>\n",
       "    </tr>\n",
       "  </thead>\n",
       "  <tbody>\n",
       "    <tr>\n",
       "      <th>0</th>\n",
       "      <td>Photo Editor &amp; Candy Camera &amp; Grid &amp; ScrapBook</td>\n",
       "      <td>ART_AND_DESIGN</td>\n",
       "      <td>4.1</td>\n",
       "      <td>159</td>\n",
       "      <td>19M</td>\n",
       "      <td>10,000+</td>\n",
       "      <td>Free</td>\n",
       "      <td>0</td>\n",
       "      <td>Everyone</td>\n",
       "      <td>Art &amp; Design</td>\n",
       "      <td>January 7, 2018</td>\n",
       "      <td>1.0.0</td>\n",
       "      <td>4.0.3 and up</td>\n",
       "    </tr>\n",
       "    <tr>\n",
       "      <th>1</th>\n",
       "      <td>Coloring book moana</td>\n",
       "      <td>ART_AND_DESIGN</td>\n",
       "      <td>3.9</td>\n",
       "      <td>967</td>\n",
       "      <td>14M</td>\n",
       "      <td>500,000+</td>\n",
       "      <td>Free</td>\n",
       "      <td>0</td>\n",
       "      <td>Everyone</td>\n",
       "      <td>Art &amp; Design;Pretend Play</td>\n",
       "      <td>January 15, 2018</td>\n",
       "      <td>2.0.0</td>\n",
       "      <td>4.0.3 and up</td>\n",
       "    </tr>\n",
       "    <tr>\n",
       "      <th>2</th>\n",
       "      <td>U Launcher Lite – FREE Live Cool Themes, Hide ...</td>\n",
       "      <td>ART_AND_DESIGN</td>\n",
       "      <td>4.7</td>\n",
       "      <td>87510</td>\n",
       "      <td>8.7M</td>\n",
       "      <td>5,000,000+</td>\n",
       "      <td>Free</td>\n",
       "      <td>0</td>\n",
       "      <td>Everyone</td>\n",
       "      <td>Art &amp; Design</td>\n",
       "      <td>August 1, 2018</td>\n",
       "      <td>1.2.4</td>\n",
       "      <td>4.0.3 and up</td>\n",
       "    </tr>\n",
       "    <tr>\n",
       "      <th>3</th>\n",
       "      <td>Sketch - Draw &amp; Paint</td>\n",
       "      <td>ART_AND_DESIGN</td>\n",
       "      <td>4.5</td>\n",
       "      <td>215644</td>\n",
       "      <td>25M</td>\n",
       "      <td>50,000,000+</td>\n",
       "      <td>Free</td>\n",
       "      <td>0</td>\n",
       "      <td>Teen</td>\n",
       "      <td>Art &amp; Design</td>\n",
       "      <td>June 8, 2018</td>\n",
       "      <td>Varies with device</td>\n",
       "      <td>4.2 and up</td>\n",
       "    </tr>\n",
       "    <tr>\n",
       "      <th>4</th>\n",
       "      <td>Pixel Draw - Number Art Coloring Book</td>\n",
       "      <td>ART_AND_DESIGN</td>\n",
       "      <td>4.3</td>\n",
       "      <td>967</td>\n",
       "      <td>2.8M</td>\n",
       "      <td>100,000+</td>\n",
       "      <td>Free</td>\n",
       "      <td>0</td>\n",
       "      <td>Everyone</td>\n",
       "      <td>Art &amp; Design;Creativity</td>\n",
       "      <td>June 20, 2018</td>\n",
       "      <td>1.1</td>\n",
       "      <td>4.4 and up</td>\n",
       "    </tr>\n",
       "  </tbody>\n",
       "</table>\n",
       "</div>"
      ],
      "text/plain": [
       "                                                 App        Category  Rating  \\\n",
       "0     Photo Editor & Candy Camera & Grid & ScrapBook  ART_AND_DESIGN     4.1   \n",
       "1                                Coloring book moana  ART_AND_DESIGN     3.9   \n",
       "2  U Launcher Lite – FREE Live Cool Themes, Hide ...  ART_AND_DESIGN     4.7   \n",
       "3                              Sketch - Draw & Paint  ART_AND_DESIGN     4.5   \n",
       "4              Pixel Draw - Number Art Coloring Book  ART_AND_DESIGN     4.3   \n",
       "\n",
       "  Reviews  Size     Installs  Type Price Content Rating  \\\n",
       "0     159   19M      10,000+  Free     0       Everyone   \n",
       "1     967   14M     500,000+  Free     0       Everyone   \n",
       "2   87510  8.7M   5,000,000+  Free     0       Everyone   \n",
       "3  215644   25M  50,000,000+  Free     0           Teen   \n",
       "4     967  2.8M     100,000+  Free     0       Everyone   \n",
       "\n",
       "                      Genres      Last Updated         Current Ver  \\\n",
       "0               Art & Design   January 7, 2018               1.0.0   \n",
       "1  Art & Design;Pretend Play  January 15, 2018               2.0.0   \n",
       "2               Art & Design    August 1, 2018               1.2.4   \n",
       "3               Art & Design      June 8, 2018  Varies with device   \n",
       "4    Art & Design;Creativity     June 20, 2018                 1.1   \n",
       "\n",
       "    Android Ver  \n",
       "0  4.0.3 and up  \n",
       "1  4.0.3 and up  \n",
       "2  4.0.3 and up  \n",
       "3    4.2 and up  \n",
       "4    4.4 and up  "
      ]
     },
     "execution_count": 9,
     "metadata": {},
     "output_type": "execute_result"
    }
   ],
   "source": [
    "data.head()"
   ]
  },
  {
   "cell_type": "code",
   "execution_count": 10,
   "id": "34f1a827",
   "metadata": {},
   "outputs": [],
   "source": [
    "Google={'Category':['Art_And_Design', 'Art_And_Design', 'Art_And_Design'],\n",
    "        'Rating':[4.1, 3.9, 4.7],\n",
    "        'Reviews':[159, 967, 87510],\n",
    "        'Price':[0, 0, 0]}"
   ]
  },
  {
   "cell_type": "code",
   "execution_count": 11,
   "id": "192aee10",
   "metadata": {},
   "outputs": [],
   "source": [
    "frame1=pd.DataFrame(Google, columns=['Category', 'Rating', 'Reviews', 'Price', 'Platform'])"
   ]
  },
  {
   "cell_type": "code",
   "execution_count": 12,
   "id": "9476bdd6",
   "metadata": {},
   "outputs": [
    {
     "data": {
      "text/html": [
       "<div>\n",
       "<style scoped>\n",
       "    .dataframe tbody tr th:only-of-type {\n",
       "        vertical-align: middle;\n",
       "    }\n",
       "\n",
       "    .dataframe tbody tr th {\n",
       "        vertical-align: top;\n",
       "    }\n",
       "\n",
       "    .dataframe thead th {\n",
       "        text-align: right;\n",
       "    }\n",
       "</style>\n",
       "<table border=\"1\" class=\"dataframe\">\n",
       "  <thead>\n",
       "    <tr style=\"text-align: right;\">\n",
       "      <th></th>\n",
       "      <th>Category</th>\n",
       "      <th>Rating</th>\n",
       "      <th>Reviews</th>\n",
       "      <th>Price</th>\n",
       "      <th>Platform</th>\n",
       "    </tr>\n",
       "  </thead>\n",
       "  <tbody>\n",
       "    <tr>\n",
       "      <th>0</th>\n",
       "      <td>Art_And_Design</td>\n",
       "      <td>4.1</td>\n",
       "      <td>159</td>\n",
       "      <td>0</td>\n",
       "      <td>NaN</td>\n",
       "    </tr>\n",
       "    <tr>\n",
       "      <th>1</th>\n",
       "      <td>Art_And_Design</td>\n",
       "      <td>3.9</td>\n",
       "      <td>967</td>\n",
       "      <td>0</td>\n",
       "      <td>NaN</td>\n",
       "    </tr>\n",
       "    <tr>\n",
       "      <th>2</th>\n",
       "      <td>Art_And_Design</td>\n",
       "      <td>4.7</td>\n",
       "      <td>87510</td>\n",
       "      <td>0</td>\n",
       "      <td>NaN</td>\n",
       "    </tr>\n",
       "  </tbody>\n",
       "</table>\n",
       "</div>"
      ],
      "text/plain": [
       "         Category  Rating  Reviews  Price Platform\n",
       "0  Art_And_Design     4.1      159      0      NaN\n",
       "1  Art_And_Design     3.9      967      0      NaN\n",
       "2  Art_And_Design     4.7    87510      0      NaN"
      ]
     },
     "execution_count": 12,
     "metadata": {},
     "output_type": "execute_result"
    }
   ],
   "source": [
    "frame1"
   ]
  },
  {
   "cell_type": "code",
   "execution_count": 13,
   "id": "5631822a",
   "metadata": {},
   "outputs": [],
   "source": [
    "Apple={'Genres':['Art_And_Design', 'Art_And_Design;Pretend_Play', 'Art & Design'],\n",
    "       'Rating':[4.1, 3.9, 4.7],\n",
    "       'Content_Rating':['Everyone', 'Everyone','Everyone'],\n",
    "       'Price':[0, 0, 0]}"
   ]
  },
  {
   "cell_type": "code",
   "execution_count": 14,
   "id": "b46eaaaf",
   "metadata": {},
   "outputs": [],
   "source": [
    "frame2=pd.DataFrame(Apple, columns=['Genres','Rating','Content_Rating','Price', 'Platform'])\n",
    "                "
   ]
  },
  {
   "cell_type": "code",
   "execution_count": 15,
   "id": "13b7f77a",
   "metadata": {},
   "outputs": [
    {
     "data": {
      "text/html": [
       "<div>\n",
       "<style scoped>\n",
       "    .dataframe tbody tr th:only-of-type {\n",
       "        vertical-align: middle;\n",
       "    }\n",
       "\n",
       "    .dataframe tbody tr th {\n",
       "        vertical-align: top;\n",
       "    }\n",
       "\n",
       "    .dataframe thead th {\n",
       "        text-align: right;\n",
       "    }\n",
       "</style>\n",
       "<table border=\"1\" class=\"dataframe\">\n",
       "  <thead>\n",
       "    <tr style=\"text-align: right;\">\n",
       "      <th></th>\n",
       "      <th>Genres</th>\n",
       "      <th>Rating</th>\n",
       "      <th>Content_Rating</th>\n",
       "      <th>Price</th>\n",
       "      <th>Platform</th>\n",
       "    </tr>\n",
       "  </thead>\n",
       "  <tbody>\n",
       "    <tr>\n",
       "      <th>0</th>\n",
       "      <td>Art_And_Design</td>\n",
       "      <td>4.1</td>\n",
       "      <td>Everyone</td>\n",
       "      <td>0</td>\n",
       "      <td>NaN</td>\n",
       "    </tr>\n",
       "    <tr>\n",
       "      <th>1</th>\n",
       "      <td>Art_And_Design;Pretend_Play</td>\n",
       "      <td>3.9</td>\n",
       "      <td>Everyone</td>\n",
       "      <td>0</td>\n",
       "      <td>NaN</td>\n",
       "    </tr>\n",
       "    <tr>\n",
       "      <th>2</th>\n",
       "      <td>Art &amp; Design</td>\n",
       "      <td>4.7</td>\n",
       "      <td>Everyone</td>\n",
       "      <td>0</td>\n",
       "      <td>NaN</td>\n",
       "    </tr>\n",
       "  </tbody>\n",
       "</table>\n",
       "</div>"
      ],
      "text/plain": [
       "                        Genres  Rating Content_Rating  Price Platform\n",
       "0               Art_And_Design     4.1       Everyone      0      NaN\n",
       "1  Art_And_Design;Pretend_Play     3.9       Everyone      0      NaN\n",
       "2                 Art & Design     4.7       Everyone      0      NaN"
      ]
     },
     "execution_count": 15,
     "metadata": {},
     "output_type": "execute_result"
    }
   ],
   "source": [
    "frame2"
   ]
  },
  {
   "cell_type": "code",
   "execution_count": 16,
   "id": "36892617",
   "metadata": {},
   "outputs": [
    {
     "data": {
      "text/plain": [
       "0                 Art_And_Design\n",
       "1    Art_And_Design;Pretend_Play\n",
       "2                   Art & Design\n",
       "Name: Genres, dtype: object"
      ]
     },
     "execution_count": 16,
     "metadata": {},
     "output_type": "execute_result"
    }
   ],
   "source": [
    "frame2.Genres"
   ]
  },
  {
   "cell_type": "code",
   "execution_count": 17,
   "id": "6e46fed9",
   "metadata": {},
   "outputs": [
    {
     "data": {
      "text/plain": [
       "0    4.1\n",
       "1    3.9\n",
       "2    4.7\n",
       "Name: Rating, dtype: float64"
      ]
     },
     "execution_count": 17,
     "metadata": {},
     "output_type": "execute_result"
    }
   ],
   "source": [
    "frame2.Rating"
   ]
  },
  {
   "cell_type": "code",
   "execution_count": 18,
   "id": "df2cd416",
   "metadata": {},
   "outputs": [
    {
     "data": {
      "text/plain": [
       "0    Everyone\n",
       "1    Everyone\n",
       "2    Everyone\n",
       "Name: Content_Rating, dtype: object"
      ]
     },
     "execution_count": 18,
     "metadata": {},
     "output_type": "execute_result"
    }
   ],
   "source": [
    "frame2.Content_Rating"
   ]
  },
  {
   "cell_type": "code",
   "execution_count": 19,
   "id": "fb70cbb8",
   "metadata": {},
   "outputs": [
    {
     "data": {
      "text/plain": [
       "0    0\n",
       "1    0\n",
       "2    0\n",
       "Name: Price, dtype: int64"
      ]
     },
     "execution_count": 19,
     "metadata": {},
     "output_type": "execute_result"
    }
   ],
   "source": [
    "frame2.Price"
   ]
  },
  {
   "cell_type": "code",
   "execution_count": 20,
   "id": "23aecd8c",
   "metadata": {},
   "outputs": [
    {
     "data": {
      "text/plain": [
       "0    NaN\n",
       "1    NaN\n",
       "2    NaN\n",
       "Name: Platform, dtype: object"
      ]
     },
     "execution_count": 20,
     "metadata": {},
     "output_type": "execute_result"
    }
   ],
   "source": [
    "frame2.Platform"
   ]
  },
  {
   "cell_type": "code",
   "execution_count": 21,
   "id": "fd07d037",
   "metadata": {},
   "outputs": [
    {
     "data": {
      "text/plain": [
       "0    Art_And_Design\n",
       "1    Art_And_Design\n",
       "2    Art_And_Design\n",
       "Name: Category, dtype: object"
      ]
     },
     "execution_count": 21,
     "metadata": {},
     "output_type": "execute_result"
    }
   ],
   "source": [
    "frame1.Category"
   ]
  },
  {
   "cell_type": "code",
   "execution_count": 22,
   "id": "6feebcf6",
   "metadata": {},
   "outputs": [
    {
     "data": {
      "text/plain": [
       "0    4.1\n",
       "1    3.9\n",
       "2    4.7\n",
       "Name: Rating, dtype: float64"
      ]
     },
     "execution_count": 22,
     "metadata": {},
     "output_type": "execute_result"
    }
   ],
   "source": [
    "frame1.Rating"
   ]
  },
  {
   "cell_type": "code",
   "execution_count": 23,
   "id": "bb840c7b",
   "metadata": {},
   "outputs": [
    {
     "data": {
      "text/plain": [
       "0      159\n",
       "1      967\n",
       "2    87510\n",
       "Name: Reviews, dtype: int64"
      ]
     },
     "execution_count": 23,
     "metadata": {},
     "output_type": "execute_result"
    }
   ],
   "source": [
    "frame1.Reviews"
   ]
  },
  {
   "cell_type": "code",
   "execution_count": 24,
   "id": "c1d71f40",
   "metadata": {},
   "outputs": [
    {
     "data": {
      "text/plain": [
       "0    0\n",
       "1    0\n",
       "2    0\n",
       "Name: Price, dtype: int64"
      ]
     },
     "execution_count": 24,
     "metadata": {},
     "output_type": "execute_result"
    }
   ],
   "source": [
    "frame1.Price"
   ]
  },
  {
   "cell_type": "code",
   "execution_count": 25,
   "id": "667d6b61",
   "metadata": {},
   "outputs": [
    {
     "data": {
      "text/plain": [
       "0    NaN\n",
       "1    NaN\n",
       "2    NaN\n",
       "Name: Platform, dtype: object"
      ]
     },
     "execution_count": 25,
     "metadata": {},
     "output_type": "execute_result"
    }
   ],
   "source": [
    "frame1.Platform"
   ]
  },
  {
   "cell_type": "markdown",
   "id": "b5b2597a",
   "metadata": {},
   "source": [
    "Every dtype for both Google and Apple is fine except the column Content_Rating for Apple. I don't think Content_rating should be Everyone, I think it should be numbers, hence the dtype should be int. I decided to investigate the unique value of this column."
   ]
  },
  {
   "cell_type": "code",
   "execution_count": 26,
   "id": "a0e21c2b",
   "metadata": {},
   "outputs": [
    {
     "data": {
      "text/plain": [
       "array(['Everyone'], dtype=object)"
      ]
     },
     "execution_count": 26,
     "metadata": {},
     "output_type": "execute_result"
    }
   ],
   "source": [
    "frame2['Content_Rating'].unique()"
   ]
  },
  {
   "cell_type": "markdown",
   "id": "ec7711d5",
   "metadata": {},
   "source": [
    "Content_Rating column turned out to be correct, it is dtype=object.I still feel it should be numerical!"
   ]
  },
  {
   "cell_type": "markdown",
   "id": "ce27d8a1",
   "metadata": {},
   "source": [
    "I am also dubious about the Price column for Google and Apple being 0 (zero). Lets check them out."
   ]
  },
  {
   "cell_type": "code",
   "execution_count": 27,
   "id": "dfc8a167",
   "metadata": {},
   "outputs": [
    {
     "data": {
      "text/plain": [
       "array([0], dtype=int64)"
      ]
     },
     "execution_count": 27,
     "metadata": {},
     "output_type": "execute_result"
    }
   ],
   "source": [
    "frame1['Price'].unique()"
   ]
  },
  {
   "cell_type": "code",
   "execution_count": 28,
   "id": "264047f9",
   "metadata": {},
   "outputs": [
    {
     "data": {
      "text/plain": [
       "array([0], dtype=int64)"
      ]
     },
     "execution_count": 28,
     "metadata": {},
     "output_type": "execute_result"
    }
   ],
   "source": [
    "frame2['Price'].unique()"
   ]
  },
  {
   "cell_type": "markdown",
   "id": "263beec6",
   "metadata": {},
   "source": [
    "All correct."
   ]
  },
  {
   "cell_type": "markdown",
   "id": "c61c2def",
   "metadata": {},
   "source": [
    "Change the names of the Apple columns to the names of the Google columns."
   ]
  },
  {
   "cell_type": "code",
   "execution_count": 29,
   "id": "fdae58c5",
   "metadata": {},
   "outputs": [],
   "source": [
    "old_names=frame2.columns"
   ]
  },
  {
   "cell_type": "code",
   "execution_count": 30,
   "id": "f7dce798",
   "metadata": {},
   "outputs": [],
   "source": [
    "new_names=(['Category','Rating', 'Reviews', 'Price', 'Platform'])"
   ]
  },
  {
   "cell_type": "code",
   "execution_count": 31,
   "id": "786127ec",
   "metadata": {},
   "outputs": [
    {
     "data": {
      "text/html": [
       "<div>\n",
       "<style scoped>\n",
       "    .dataframe tbody tr th:only-of-type {\n",
       "        vertical-align: middle;\n",
       "    }\n",
       "\n",
       "    .dataframe tbody tr th {\n",
       "        vertical-align: top;\n",
       "    }\n",
       "\n",
       "    .dataframe thead th {\n",
       "        text-align: right;\n",
       "    }\n",
       "</style>\n",
       "<table border=\"1\" class=\"dataframe\">\n",
       "  <thead>\n",
       "    <tr style=\"text-align: right;\">\n",
       "      <th></th>\n",
       "      <th>Category</th>\n",
       "      <th>Rating</th>\n",
       "      <th>Reviews</th>\n",
       "      <th>Price</th>\n",
       "      <th>Platform</th>\n",
       "    </tr>\n",
       "  </thead>\n",
       "  <tbody>\n",
       "    <tr>\n",
       "      <th>0</th>\n",
       "      <td>Art_And_Design</td>\n",
       "      <td>4.1</td>\n",
       "      <td>Everyone</td>\n",
       "      <td>0</td>\n",
       "      <td>NaN</td>\n",
       "    </tr>\n",
       "    <tr>\n",
       "      <th>1</th>\n",
       "      <td>Art_And_Design;Pretend_Play</td>\n",
       "      <td>3.9</td>\n",
       "      <td>Everyone</td>\n",
       "      <td>0</td>\n",
       "      <td>NaN</td>\n",
       "    </tr>\n",
       "    <tr>\n",
       "      <th>2</th>\n",
       "      <td>Art &amp; Design</td>\n",
       "      <td>4.7</td>\n",
       "      <td>Everyone</td>\n",
       "      <td>0</td>\n",
       "      <td>NaN</td>\n",
       "    </tr>\n",
       "  </tbody>\n",
       "</table>\n",
       "</div>"
      ],
      "text/plain": [
       "                      Category  Rating   Reviews  Price Platform\n",
       "0               Art_And_Design     4.1  Everyone      0      NaN\n",
       "1  Art_And_Design;Pretend_Play     3.9  Everyone      0      NaN\n",
       "2                 Art & Design     4.7  Everyone      0      NaN"
      ]
     },
     "execution_count": 31,
     "metadata": {},
     "output_type": "execute_result"
    }
   ],
   "source": [
    "frame2.rename(columns={'Genres':'Category', 'Content_Rating':'Reviews'})"
   ]
  },
  {
   "cell_type": "markdown",
   "id": "1454e4f2",
   "metadata": {},
   "source": [
    "I changed the names of the columns, but lets try another way as well."
   ]
  },
  {
   "cell_type": "code",
   "execution_count": 32,
   "id": "cf82d5ea",
   "metadata": {},
   "outputs": [
    {
     "data": {
      "text/plain": [
       "{'Genres': 'Category',\n",
       " 'Rating': 'Rating',\n",
       " 'Content_Rating': 'Reviews',\n",
       " 'Price': 'Price',\n",
       " 'Platform': 'Platform'}"
      ]
     },
     "execution_count": 32,
     "metadata": {},
     "output_type": "execute_result"
    }
   ],
   "source": [
    "dict(zip(old_names,new_names))"
   ]
  },
  {
   "cell_type": "code",
   "execution_count": 51,
   "id": "529ad7b7",
   "metadata": {},
   "outputs": [
    {
     "data": {
      "text/html": [
       "<div>\n",
       "<style scoped>\n",
       "    .dataframe tbody tr th:only-of-type {\n",
       "        vertical-align: middle;\n",
       "    }\n",
       "\n",
       "    .dataframe tbody tr th {\n",
       "        vertical-align: top;\n",
       "    }\n",
       "\n",
       "    .dataframe thead th {\n",
       "        text-align: right;\n",
       "    }\n",
       "</style>\n",
       "<table border=\"1\" class=\"dataframe\">\n",
       "  <thead>\n",
       "    <tr style=\"text-align: right;\">\n",
       "      <th></th>\n",
       "      <th>Category</th>\n",
       "      <th>Rating</th>\n",
       "      <th>Reviews</th>\n",
       "      <th>Price</th>\n",
       "      <th>Platform</th>\n",
       "    </tr>\n",
       "  </thead>\n",
       "  <tbody>\n",
       "    <tr>\n",
       "      <th>0</th>\n",
       "      <td>Art_And_Design</td>\n",
       "      <td>4.1</td>\n",
       "      <td>Everyone</td>\n",
       "      <td>0</td>\n",
       "      <td>NaN</td>\n",
       "    </tr>\n",
       "    <tr>\n",
       "      <th>1</th>\n",
       "      <td>Art_And_Design;Pretend_Play</td>\n",
       "      <td>3.9</td>\n",
       "      <td>Everyone</td>\n",
       "      <td>0</td>\n",
       "      <td>NaN</td>\n",
       "    </tr>\n",
       "    <tr>\n",
       "      <th>2</th>\n",
       "      <td>Art &amp; Design</td>\n",
       "      <td>4.7</td>\n",
       "      <td>Everyone</td>\n",
       "      <td>0</td>\n",
       "      <td>NaN</td>\n",
       "    </tr>\n",
       "  </tbody>\n",
       "</table>\n",
       "</div>"
      ],
      "text/plain": [
       "                      Category  Rating   Reviews  Price Platform\n",
       "0               Art_And_Design     4.1  Everyone      0      NaN\n",
       "1  Art_And_Design;Pretend_Play     3.9  Everyone      0      NaN\n",
       "2                 Art & Design     4.7  Everyone      0      NaN"
      ]
     },
     "execution_count": 51,
     "metadata": {},
     "output_type": "execute_result"
    }
   ],
   "source": [
    "frame2.rename(columns={'Genres':'Category','Content_Rating':'Reviews'})"
   ]
  },
  {
   "cell_type": "code",
   "execution_count": 53,
   "id": "d018471b",
   "metadata": {},
   "outputs": [],
   "source": [
    "df1=pd.DataFrame(Google, columns=['Category','Rating', 'Reviews', 'Price', 'Platform'])"
   ]
  },
  {
   "cell_type": "code",
   "execution_count": 57,
   "id": "144fd740",
   "metadata": {},
   "outputs": [],
   "source": [
    "df2=pd.DataFrame(Apple, columns=['Category','Rating', 'Reviews', 'Price', 'Platform'])"
   ]
  },
  {
   "cell_type": "code",
   "execution_count": 72,
   "id": "24e16212",
   "metadata": {},
   "outputs": [
    {
     "data": {
      "text/html": [
       "<div>\n",
       "<style scoped>\n",
       "    .dataframe tbody tr th:only-of-type {\n",
       "        vertical-align: middle;\n",
       "    }\n",
       "\n",
       "    .dataframe tbody tr th {\n",
       "        vertical-align: top;\n",
       "    }\n",
       "\n",
       "    .dataframe thead th {\n",
       "        text-align: right;\n",
       "    }\n",
       "</style>\n",
       "<table border=\"1\" class=\"dataframe\">\n",
       "  <thead>\n",
       "    <tr style=\"text-align: right;\">\n",
       "      <th></th>\n",
       "      <th>Category</th>\n",
       "      <th>Rating</th>\n",
       "      <th>Reviews</th>\n",
       "      <th>Price</th>\n",
       "      <th>Platform</th>\n",
       "    </tr>\n",
       "  </thead>\n",
       "  <tbody>\n",
       "    <tr>\n",
       "      <th>0</th>\n",
       "      <td>Art_And_Design</td>\n",
       "      <td>4.1</td>\n",
       "      <td>159</td>\n",
       "      <td>0</td>\n",
       "      <td>NaN</td>\n",
       "    </tr>\n",
       "    <tr>\n",
       "      <th>1</th>\n",
       "      <td>Art_And_Design</td>\n",
       "      <td>3.9</td>\n",
       "      <td>967</td>\n",
       "      <td>0</td>\n",
       "      <td>NaN</td>\n",
       "    </tr>\n",
       "    <tr>\n",
       "      <th>2</th>\n",
       "      <td>Art_And_Design</td>\n",
       "      <td>4.7</td>\n",
       "      <td>87510</td>\n",
       "      <td>0</td>\n",
       "      <td>NaN</td>\n",
       "    </tr>\n",
       "    <tr>\n",
       "      <th>3</th>\n",
       "      <td>NaN</td>\n",
       "      <td>4.1</td>\n",
       "      <td>NaN</td>\n",
       "      <td>0</td>\n",
       "      <td>NaN</td>\n",
       "    </tr>\n",
       "    <tr>\n",
       "      <th>4</th>\n",
       "      <td>NaN</td>\n",
       "      <td>3.9</td>\n",
       "      <td>NaN</td>\n",
       "      <td>0</td>\n",
       "      <td>NaN</td>\n",
       "    </tr>\n",
       "    <tr>\n",
       "      <th>5</th>\n",
       "      <td>NaN</td>\n",
       "      <td>4.7</td>\n",
       "      <td>NaN</td>\n",
       "      <td>0</td>\n",
       "      <td>NaN</td>\n",
       "    </tr>\n",
       "  </tbody>\n",
       "</table>\n",
       "</div>"
      ],
      "text/plain": [
       "         Category  Rating Reviews  Price Platform\n",
       "0  Art_And_Design     4.1     159      0      NaN\n",
       "1  Art_And_Design     3.9     967      0      NaN\n",
       "2  Art_And_Design     4.7   87510      0      NaN\n",
       "3             NaN     4.1     NaN      0      NaN\n",
       "4             NaN     3.9     NaN      0      NaN\n",
       "5             NaN     4.7     NaN      0      NaN"
      ]
     },
     "execution_count": 72,
     "metadata": {},
     "output_type": "execute_result"
    }
   ],
   "source": [
    "pd.concat([df1,df2], ignore_index=True)"
   ]
  },
  {
   "cell_type": "code",
   "execution_count": null,
   "id": "22424912",
   "metadata": {},
   "outputs": [],
   "source": []
  }
 ],
 "metadata": {
  "kernelspec": {
   "display_name": "Python 3 (ipykernel)",
   "language": "python",
   "name": "python3"
  },
  "language_info": {
   "codemirror_mode": {
    "name": "ipython",
    "version": 3
   },
   "file_extension": ".py",
   "mimetype": "text/x-python",
   "name": "python",
   "nbconvert_exporter": "python",
   "pygments_lexer": "ipython3",
   "version": "3.9.12"
  },
  "vscode": {
   "interpreter": {
    "hash": "afb734500600fd355917ca529030176ea0ca205570884b88f2f6f7d791fd3fbe"
   }
  }
 },
 "nbformat": 4,
 "nbformat_minor": 5
}
